{
 "cells": [
  {
   "cell_type": "markdown",
   "metadata": {},
   "source": [
    "<center>\n",
    "    <img src=\"https://cf-courses-data.s3.us.cloud-object-storage.appdomain.cloud/IBMDeveloperSkillsNetwork-DS0105EN-SkillsNetwork/labs/Module2/images/SN_web_lightmode.png\" width=\"300\" alt=\"cognitiveclass.ai logo\">\n",
    "</center>\n"
   ]
  },
  {
   "cell_type": "markdown",
   "metadata": {},
   "source": [
    "#### Add your code below following the instructions given in the course\n"
   ]
  },
  {
   "cell_type": "markdown",
   "metadata": {},
   "source": [
    "# Introduction à la Science des Données\n"
   ]
  },
  {
   "cell_type": "markdown",
   "metadata": {},
   "source": [
    "## Introduction\n",
    "\n",
    "Ce carnet présente les bases de la science des données, y compris les langages utilisés, les bibliothèques populaires, les outils, et quelques opérations simples en Python.\n"
   ]
  },
  {
   "cell_type": "markdown",
   "metadata": {},
   "source": [
    "## Langages de la science des données\n",
    "\n",
    "- Python  \n",
    "- R  \n",
    "- SQL  \n",
    "- Julia  \n",
    "- Scala\n"
   ]
  },
  {
   "cell_type": "markdown",
   "metadata": {},
   "source": [
    "## Bibliothèques de science des données\n",
    "\n",
    "- NumPy  \n",
    "- Pandas  \n",
    "- Matplotlib  \n",
    "- Scikit-learn  \n",
    "- TensorFlow  \n",
    "- Seaborn  \n",
    "- Keras\n"
   ]
  },
  {
   "cell_type": "markdown",
   "metadata": {},
   "source": [
    "## Outils de la science des données\n",
    "\n",
    "| Outil             | Description                          |\n",
    "|-------------------|--------------------------------------|\n",
    "| Jupyter Notebook  | Interface interactive de codage      |\n",
    "| RStudio           | IDE pour R                           |\n",
    "| Apache Spark      | Traitement distribué de données      |\n",
    "| Tableau           | Visualisation de données             |\n",
    "| Excel             | Analyse de données simple            |\n"
   ]
  },
  {
   "cell_type": "markdown",
   "metadata": {},
   "source": [
    "## Exemples d'expressions arithmétiques\n",
    "\n",
    "- `3 + 4`\n",
    "- `10 * 5`\n",
    "- `8 / 2`\n",
    "- `5 ** 2`\n",
    "- `(10 - 2) * 3`\n"
   ]
  },
  {
   "cell_type": "code",
   "execution_count": 2,
   "metadata": {},
   "outputs": [
    {
     "name": "stdout",
     "output_type": "stream",
     "text": [
      "Multiplication : 42\n",
      "Addition : 13\n"
     ]
    }
   ],
   "source": [
    "# Multiplication et addition\n",
    "multiplication = 6 * 7\n",
    "addition = 6 + 7\n",
    "\n",
    "print(\"Multiplication :\", multiplication)\n",
    "print(\"Addition :\", addition)\n"
   ]
  },
  {
   "cell_type": "code",
   "execution_count": 3,
   "metadata": {},
   "outputs": [
    {
     "name": "stdout",
     "output_type": "stream",
     "text": [
      "150 minutes équivalent à 2.5 heures\n"
     ]
    }
   ],
   "source": [
    "# Conversion de minutes en heures\n",
    "minutes = 150\n",
    "heures = minutes / 60\n",
    "\n",
    "print(f\"{minutes} minutes équivalent à {heures} heures\")\n"
   ]
  },
  {
   "cell_type": "markdown",
   "metadata": {},
   "source": [
    "## Objectifs du carnet\n",
    "\n",
    "- Apprendre les langages de base en science des données  \n",
    "- Découvrir les bibliothèques utiles  \n",
    "- Comprendre les outils utilisés  \n",
    "- Effectuer des opérations simples en Python\n"
   ]
  },
  {
   "cell_type": "markdown",
   "metadata": {},
   "source": [
    "**Auteur** : ITOUA LEBO Lebo Rohi Nathan\n"
   ]
  },
  {
   "cell_type": "code",
   "execution_count": null,
   "metadata": {},
   "outputs": [],
   "source": []
  }
 ],
 "metadata": {
  "kernelspec": {
   "display_name": "Python 3 (ipykernel)",
   "language": "python",
   "name": "python3"
  },
  "language_info": {
   "codemirror_mode": {
    "name": "ipython",
    "version": 3
   },
   "file_extension": ".py",
   "mimetype": "text/x-python",
   "name": "python",
   "nbconvert_exporter": "python",
   "pygments_lexer": "ipython3",
   "version": "3.12.8"
  }
 },
 "nbformat": 4,
 "nbformat_minor": 4
}
